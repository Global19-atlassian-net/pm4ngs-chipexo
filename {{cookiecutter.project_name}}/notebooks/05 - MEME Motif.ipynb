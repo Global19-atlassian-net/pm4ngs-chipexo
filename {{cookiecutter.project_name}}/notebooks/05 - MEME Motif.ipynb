{
 "cells": [
  {
   "cell_type": "code",
   "execution_count": null,
   "metadata": {
    "pycharm": {
     "name": "#%%\n"
    }
   },
   "outputs": [],
   "source": [
    "%run ../config/init.py\n",
    "import itertools"
   ]
  },
  {
   "cell_type": "markdown",
   "metadata": {
    "pycharm": {
     "name": "#%% md\n"
    }
   },
   "source": [
    "### Creating results folders"
   ]
  },
  {
   "cell_type": "code",
   "execution_count": null,
   "outputs": [],
   "source": [
    "data_dir = os.path.join(RESULTS, DATASET, 'peak_calling')\n",
    "result_dir = working_dir(os.path.join(RESULTS, DATASET, 'motif'))\n",
    "sample_table_file = os.path.join(DATA, DATASET, 'sample_table.csv')\n",
    "sample_table = pandas.read_csv(sample_table_file, keep_default_na=False)\n",
    "sample_table.head()"
   ],
   "metadata": {
    "collapsed": false,
    "pycharm": {
     "name": "#%%\n"
    }
   }
  },
  {
   "cell_type": "markdown",
   "source": [
    "### DNA binding motif finding\n",
    "For using MEME you should download the databases from http://meme-suite.org/doc/download.html\n",
    "\n",
    "The Morif database (file `motif_databases.X.X.tgz`) should be uncompressed into the `data/meme` folder resulting \n",
    "in a structure like this:\n",
    "\n",
    "```\n",
    "    data\n",
    "    ├── meme\n",
    "    │   └── motif_databases\n",
    "    │       ├── ARABD\n",
    "    │       ├── CIS-BP\n",
    "    │       ├── CISBP-RNA\n",
    "    │       ├── ECOLI\n",
    "    │       ├── EUKARYOTE\n",
    "    │       ├── FLY\n",
    "    │       ├── HUMAN\n",
    "    │       ├── JASPAR\n",
    "    │       ├── MALARIA\n",
    "    │       ├── MIRBASE\n",
    "    │       ├── MOUSE\n",
    "    │       ├── PROKARYOTE\n",
    "    │       ├── PROTEIN\n",
    "    │       ├── RNA\n",
    "    │       ├── TFBSshape\n",
    "    │       ├── WORM\n",
    "    │       └── YEAST\n",
    "    └── PRJNA238004\n",
    "```\n",
    "\n",
    "In this example we will be using E. Coli databases: \n",
    "    * SwissRegulon_e_coli.meme\n",
    "    * dpinteract.meme\n",
    "\n",
    "Therefore, the variable `MEME_DB_CATEGORY = 'ECOLI'` should be edited accordingly. "
   ],
   "metadata": {
    "collapsed": false,
    "pycharm": {
     "name": "#%% md\n"
    }
   }
  },
  {
   "cell_type": "code",
   "execution_count": null,
   "outputs": [],
   "source": [
    "MEME_DB_CATEGORY = 'ECOLI'\n",
    "\n",
    "MEME_DB_MOTIF_FILE = 'motif_databases.12.19.tgz'\n",
    "MEME_DB_MOTIF_LINK = 'http://meme-suite.org/meme-software/Databases/motifs/' + MEME_DB_MOTIF_FILE\n",
    "\n",
    "if not os.path.exists(os.path.join(DATA,'meme')):\n",
    "    working_dir(os.path.join(DATA,'meme'))\n",
    "    !curl -o {MEME_DB_MOTIF_FILE} {MEME_DB_MOTIF_LINK}\n",
    "    !tar xzf {MEME_DB_MOTIF_FILE}\n",
    "    !rm -v {MEME_DB_MOTIF_FILE}\n",
    "    "
   ],
   "metadata": {
    "collapsed": false,
    "pycharm": {
     "name": "#%%\n"
    }
   }
  },
  {
   "cell_type": "code",
   "execution_count": null,
   "outputs": [],
   "source": [
    "log_file = 'meme.log'\n",
    "meme_db_path = os.path.join(DATA,'meme', 'motif_databases', MEME_DB_CATEGORY)\n",
    "\n",
    "meme_yml = {\n",
    "    'genome': {'class': 'File', 'path': GENOME_FASTA },\n",
    "    'nmotifs': 10,\n",
    "    'memedb': [\n",
    "        {'class': 'File', 'path':  os.path.join(meme_db_path, 'SwissRegulon_e_coli.meme')},\n",
    "        {'class': 'File', 'path':  os.path.join(meme_db_path, 'dpinteract.meme')}\n",
    "    ],\n",
    "    'bed': []\n",
    "}\n",
    "\n",
    "   \n",
    "for c in sample_table['condition'].unique():\n",
    "    f = os.path.join(data_dir, c + '.border_pair_annot.bed')\n",
    "    meme_yml['bed'].append({'class': 'File', 'path': f})\n",
    "\n",
    "if meme_yml['bed']:\n",
    "    write_to_yaml(meme_yml, 'meme.yml')  \n",
    "    cmd_header = '{} {}/ChIP-Seq/meme-motif.cwl meme.yml > {} 2>&1 &'.format(CWLRUNNER, CWLWORKFLOWS, log_file)\n",
    "    run_command(cmd_header)"
   ],
   "metadata": {
    "collapsed": false,
    "pycharm": {
     "name": "#%%\n"
    }
   }
  },
  {
   "cell_type": "markdown",
   "source": [
    "### Checking command output\n",
    "Execute next cell until it prints: **Run completed**"
   ],
   "metadata": {
    "collapsed": false,
    "pycharm": {
     "name": "#%% md\n"
    }
   }
  },
  {
   "cell_type": "code",
   "execution_count": null,
   "outputs": [],
   "source": [
    "check_cwl_command_log(log_file)"
   ],
   "metadata": {
    "collapsed": false,
    "pycharm": {
     "name": "#%%\n"
    }
   }
  }
 ],
 "metadata": {
  "kernelspec": {
   "display_name": "Python 3",
   "language": "python",
   "name": "python3"
  },
  "language_info": {
   "codemirror_mode": {
    "name": "ipython",
    "version": 3
   },
   "file_extension": ".py",
   "mimetype": "text/x-python",
   "name": "python",
   "nbconvert_exporter": "python",
   "pygments_lexer": "ipython3",
   "version": "3.7.3"
  },
  "pycharm": {
   "stem_cell": {
    "cell_type": "raw",
    "source": [],
    "metadata": {
     "collapsed": false
    }
   }
  }
 },
 "nbformat": 4,
 "nbformat_minor": 1
}