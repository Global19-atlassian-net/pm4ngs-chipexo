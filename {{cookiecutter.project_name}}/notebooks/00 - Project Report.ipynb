{
 "cells": [
  {
   "cell_type": "markdown",
   "source": [
    "# Project Report\n",
    " \n",
    "__Project Name__: {{ cookiecutter.project_name }}  \n",
    "__Dataset Name__: {{ cookiecutter.dataset_name }}  \n",
    "__Author__: {{ cookiecutter.author_name }}  \n",
    "__Email__: {{ cookiecutter.email }}  \n",
    "__Dataset__: {{ cookiecutter.dataset_name }}  \n",
    "__Created Date__: {% now 'local', '%d/%m/%Y' %}  \n",
    "\n",
    "## Outline\n",
    "\n",
    "This is a Differential Binding Analysis workflow for ChIP-exo data\n",
    "\n",
    "\n",
    "Our workflow is based on a set of Jupyter Notebooks and [CWL workflows](https://github.com/ncbi/cwl-ngs-workflows-cbb). \n",
    "The workflows excuted the analysis using the following tools: \n",
    "\n",
    " * FastQC, for pre-processing quality control\n",
    " * Trimmomatic, for reads trimming\n",
    " * BWA, for reads alignment\n",
    " * Phantompeakqualtools, for ChIP-Seq quality control\n",
    " * MACE, for peak calling\n",
    " * MEME, for motif finding\n",
    "\n",
    "### Workflow  steps\n",
    "\n",
    " 1. [Pre-processing QC](#1.-Pre-processing-QC)\n",
    " 2. [Trimming](#2.-Trimming)\n",
    " 3. [Alignment](#3.-Alignment)\n",
    "     - [Alignment Quality Control](#3.1-Alignment-QC)\n",
    " 4. [Peak Calling](#4.-Peak-Calling)\n",
    " 5. [DNA Motif finding](#5.-DNA-Motif-finding)\n",
    " \n",
    "### Requirements\n",
    "\n",
    "### Requirements\n",
    "\n",
    " 1. PM4NGS\n",
    " 2. Poppler (https://poppler.freedesktop.org/)\n",
    " 3. Full list of requirements *requirements/conda-env-dependencies.yaml*\n",
    "{% if cookiecutter.use_docker == 'y' %}\n",
    " 4. Docker\n",
    "{% endif %}"
   ],
   "metadata": {
    "collapsed": false
   }
  },
  {
   "cell_type": "code",
   "execution_count": null,
   "outputs": [],
   "source": [
    "%run ../config/init.py\n",
    "from pm4ngs.jupyterngsplugin.markdown.fastqc import fastqc_table, fastqc_trimmomatic_table\n",
    "from pm4ngs.jupyterngsplugin.markdown.alignment import alignment_table\n",
    "from pm4ngs.jupyterngsplugin.markdown.alignment import reads_distribution_plot\n",
    "from pm4ngs.jupyterngsplugin.markdown.phantompeakqualtools import qc_table\n",
    "from pm4ngs.jupyterngsplugin.markdown.chipexo import peak_calling_table_with_qc\n",
    "from pm4ngs.jupyterngsplugin.markdown.chipexo import meme_motif_table\n",
    "from pm4ngs.jupyterngsplugin.markdown.utils import hide_code_str\n",
    "from pm4ngs.jupyterngsplugin.markdown.utils import info_table\n",
    "from pm4ngs.jupyterngsplugin.utils.notebook import save_2_html\n",
    "HTML(hide_code_str())"
   ],
   "metadata": {
    "collapsed": false,
    "pycharm": {
     "name": "#%%\n"
    }
   }
  },
  {
   "cell_type": "markdown",
   "source": [
    "## 1. Pre-processing QC"
   ],
   "metadata": {
    "collapsed": false
   }
  },
  {
   "cell_type": "code",
   "execution_count": null,
   "outputs": [],
   "source": [
    "data_dir = os.path.join(DATA, DATASET)\n",
    "os.chdir(data_dir)\n",
    "samples = [ f.replace('.fastq.gz','') for ds,dr,fs in os.walk('./') for f in fs if f.endswith('.fastq.gz')]\n",
    "samples.sort()\n",
    "\n",
    "os.chdir(NOTEBOOKS)\n",
    "display(Markdown(info_table('01 - Pre-processing QC', data_dir)))\n",
    "\n",
    "str_msg = '#### FastQC report\\n'\n",
    "display(Markdown(str_msg))\n",
    "samples_data, str_msg =  fastqc_table(samples, \n",
    "                                      os.path.join(DATA, DATASET),\n",
    "                                      os.path.join(DATA, DATASET))\n",
    "display(Markdown(str_msg))\n",
    "del str_msg"
   ],
   "metadata": {
    "collapsed": false,
    "pycharm": {
     "name": "#%%\n"
    }
   }
  },
  {
   "cell_type": "markdown",
   "source": [
    "## 2. Trimming"
   ],
   "metadata": {
    "collapsed": false
   }
  },
  {
   "cell_type": "code",
   "execution_count": null,
   "outputs": [],
   "source": [
    "os.chdir(NOTEBOOKS)\n",
    "result_dir = os.path.join(RESULTS, DATASET, 'trimmomatic')\n",
    "display(Markdown(info_table('02 - Samples trimming', result_dir)))\n",
    "\n",
    "samples_data, str_msg =  fastqc_trimmomatic_table(samples_data, samples, result_dir)\n",
    "\n",
    "display(Markdown(str_msg))\n",
    "del str_msg"
   ],
   "metadata": {
    "collapsed": false,
    "pycharm": {
     "name": "#%%\n"
    }
   }
  },
  {
   "cell_type": "markdown",
   "source": [
    "## 3. Alignment"
   ],
   "metadata": {
    "collapsed": false
   }
  },
  {
   "cell_type": "code",
   "execution_count": null,
   "outputs": [],
   "source": [
    "os.chdir(NOTEBOOKS)\n",
    "name = '03 - Alignments'\n",
    "result_dir = os.path.join(RESULTS, DATASET, 'alignments')\n",
    "display(Markdown(info_table('03 - Alignments', result_dir)))\n",
    "display(Markdown('### Reference genome\\n**NC_000913.3**\\n\\n'))\n",
    "sample_table_file = os.path.join(DATA, DATASET, 'sample_table.csv')\n",
    "sample_table = pandas.read_csv(sample_table_file, keep_default_na=False)\n",
    "samples = sample_table['sample_name'].unique()\n",
    "{% if cookiecutter.sequencing_technology == 'paired-end' %}\n",
    "method = 'BWA_paired'\n",
    "{% else %}\n",
    "method = 'BWA_single'\n",
    "{% endif %}\n",
    "samples_data, str_msg =  alignment_table(samples_data, samples, result_dir, method) \n",
    "display(Markdown(str_msg))\n",
    "del str_msg"
   ],
   "metadata": {
    "collapsed": false,
    "pycharm": {
     "name": "#%%\n"
    }
   }
  },
  {
   "cell_type": "markdown",
   "source": [
    "### Distribution of Reads"
   ],
   "metadata": {
    "collapsed": false
   }
  },
  {
   "cell_type": "code",
   "execution_count": null,
   "outputs": [],
   "source": [
    "reads_distribution_plot(samples_data, samples,(18,6), method)\n",
    "plt.show()\n",
    "plt.close()"
   ],
   "metadata": {
    "collapsed": false,
    "pycharm": {
     "name": "#%%\n"
    }
   }
  },
  {
   "cell_type": "markdown",
   "source": [
    "## 4. Alignment QC\n",
    "\n",
    "### Phantompeakqualtools\n",
    "\n",
    "See https://github.com/kundajelab/phantompeakqualtools for more detailed info about the Phantompeakqualtools parameters"
   ],
   "metadata": {
    "collapsed": false
   }
  },
  {
   "cell_type": "code",
   "execution_count": null,
   "outputs": [],
   "source": [
    "str_msg =  qc_table(samples, os.path.join(RESULTS, DATASET, 'alignments'), 450, 450)\n",
    "display(Markdown(str_msg))\n",
    "del str_msg"
   ],
   "metadata": {
    "collapsed": false,
    "pycharm": {
     "name": "#%%\n"
    }
   }
  },
  {
   "cell_type": "markdown",
   "source": [
    "## 4. Peak Calling\n",
    "\n",
    "### Phantompeakqualtools savp PDF plots with MACE identified peaks"
   ],
   "metadata": {
    "collapsed": false
   }
  },
  {
   "cell_type": "code",
   "execution_count": null,
   "outputs": [],
   "source": [
    "img_size = 250\n",
    "os.chdir(NOTEBOOKS)\n",
    "result_dir = os.path.join(RESULTS, DATASET, 'peak_calling')\n",
    "display(Markdown(info_table('04 - Peak Calling', result_dir)))\n",
    "\n",
    "\n",
    "str_msg = peak_calling_table_with_qc(sample_table, \n",
    "                                     os.path.join(RESULTS, DATASET, 'alignments'), \n",
    "                                     result_dir, img_size, img_size)\n",
    "display(Markdown(str_msg))\n",
    "del str_msg"
   ],
   "metadata": {
    "collapsed": false,
    "pycharm": {
     "name": "#%%\n"
    }
   }
  },
  {
   "cell_type": "markdown",
   "source": [
    "## 5. DNA Motif finding\n",
    "### Phantompeakqualtools savp PDF plots with MACE identified peaks"
   ],
   "metadata": {
    "collapsed": false
   }
  },
  {
   "cell_type": "code",
   "execution_count": null,
   "outputs": [],
   "source": [
    "img_size = 250\n",
    "os.chdir(NOTEBOOKS)\n",
    "result_dir = os.path.join(RESULTS, DATASET, 'motif')\n",
    "display(Markdown(info_table('05 - MEME Motif', result_dir)))\n",
    "\n",
    "str_msg = meme_motif_table(sample_table, result_dir, img_size, img_size)\n",
    "display(Markdown(str_msg))\n",
    "del str_msg"
   ],
   "metadata": {
    "collapsed": false,
    "pycharm": {
     "name": "#%%\n"
    }
   }
  },
  {
   "cell_type": "code",
   "execution_count": null,
   "outputs": [],
   "source": [
    "os.chdir(NOTEBOOKS)\n",
    "save_2_html(\"00 - Project Report.ipynb\")"
   ],
   "metadata": {
    "collapsed": false,
    "pycharm": {
     "name": "#%%\n"
    }
   }
  }
 ],
 "metadata": {
  "kernelspec": {
   "display_name": "Python 3",
   "language": "python",
   "name": "python3"
  },
  "language_info": {
   "codemirror_mode": {
    "name": "ipython",
    "version": 3
   },
   "file_extension": ".py",
   "mimetype": "text/x-python",
   "name": "python",
   "nbconvert_exporter": "python",
   "pygments_lexer": "ipython3",
   "version": "3.7.3"
  },
  "pycharm": {
   "stem_cell": {
    "cell_type": "raw",
    "source": [],
    "metadata": {
     "collapsed": false
    }
   }
  }
 },
 "nbformat": 4,
 "nbformat_minor": 2
}