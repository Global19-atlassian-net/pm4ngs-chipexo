{
 "cells": [
  {
   "cell_type": "code",
   "execution_count": null,
   "metadata": {},
   "outputs": [],
   "source": [
    "%run ../config/init.py"
   ]
  },
  {
   "cell_type": "markdown",
   "metadata": {
    "pycharm": {
     "name": "#%% md\n"
    }
   },
   "source": [
    "### Creating results folders"
   ]
  },
  {
   "cell_type": "code",
   "execution_count": null,
   "outputs": [],
   "source": [
    "data_dir = os.path.join(RESULTS, DATASET, 'alignments')\n",
    "result_dir = working_dir(os.path.join(RESULTS, DATASET, 'peak_calling'))\n",
    "sample_table_file = os.path.join(DATA, DATASET, 'sample_table.csv')\n",
    "sample_table = pandas.read_csv(sample_table_file, keep_default_na=False)\n",
    "sample_table.head()"
   ],
   "metadata": {
    "collapsed": false,
    "pycharm": {
     "name": "#%%\n"
    }
   }
  },
  {
   "cell_type": "markdown",
   "source": [
    "### Peak calling workflow using MACE"
   ],
   "metadata": {
    "collapsed": false,
    "pycharm": {
     "name": "#%% md\n"
    }
   }
  },
  {
   "cell_type": "code",
   "execution_count": null,
   "outputs": [],
   "source": [
    "log_file = 'peak_calling.log'\n",
    "\n",
    "peakcalling_yml = {\n",
    "    'chrom_size': {'class': 'File', 'path': GENOME_CHROMSIZES },\n",
    "    'genome_gtf': {'class': 'File', 'path': GENOME_GTF },\n",
    "    'tss_size': 1000,\n",
    "    'norm_method': 'SNR',    \n",
    "    'output_basename': [],\n",
    "    'sorted_bam': []\n",
    "}\n",
    "\n",
    "for c in sample_table['condition'].unique():\n",
    "    rep = sample_table[sample_table['condition'] == c]['sample_name']\n",
    "    sorted_bam = []\n",
    "    for r in rep:\n",
    "        r = os.path.join(data_dir, r + '_sorted.bam')\n",
    "        sorted_bam.append({'class': 'File', 'path': r, 'secondaryFiles': [{'class': 'File', 'path': r + '.bai'}]})\n",
    "    if sorted_bam:\n",
    "        peakcalling_yml['output_basename'].append(c)\n",
    "        peakcalling_yml['sorted_bam'].append(sorted_bam)\n",
    "    \n",
    "if peakcalling_yml['output_basename']:\n",
    "    write_to_yaml(peakcalling_yml, 'peakcalling.yml')  \n",
    "    cmd_header = '{} {}/ChIP-exo/peak-caller-MACE-SE.cwl peakcalling.yml > {} 2>&1 &'.format(\n",
    "        CWLRUNNER, CWLWORKFLOWS, log_file)\n",
    "    run_command(cmd_header)"
   ],
   "metadata": {
    "collapsed": false,
    "pycharm": {
     "name": "#%%\n"
    }
   }
  },
  {
   "cell_type": "markdown",
   "source": [
    "### Checking command output\n",
    "Execute next cell until it prints: **Run completed**"
   ],
   "metadata": {
    "collapsed": false,
    "pycharm": {
     "name": "#%% md\n"
    }
   }
  },
  {
   "cell_type": "code",
   "execution_count": null,
   "outputs": [],
   "source": [
    "check_cwl_command_log(log_file)"
   ],
   "metadata": {
    "collapsed": false,
    "pycharm": {
     "name": "#%%\n"
    }
   }
  }
 ],
 "metadata": {
  "kernelspec": {
   "display_name": "Python 3",
   "language": "python",
   "name": "python3"
  },
  "language_info": {
   "codemirror_mode": {
    "name": "ipython",
    "version": 3
   },
   "file_extension": ".py",
   "mimetype": "text/x-python",
   "name": "python",
   "nbconvert_exporter": "python",
   "pygments_lexer": "ipython3",
   "version": "3.7.3"
  },
  "pycharm": {
   "stem_cell": {
    "cell_type": "raw",
    "source": [],
    "metadata": {
     "collapsed": false
    }
   }
  }
 },
 "nbformat": 4,
 "nbformat_minor": 1
}